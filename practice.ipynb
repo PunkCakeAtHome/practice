{
 "cells": [
  {
   "cell_type": "code",
   "execution_count": 1,
   "id": "d69a1225",
   "metadata": {},
   "outputs": [],
   "source": [
    "import math\n",
    "import numpy as np \n",
    "import pandas as pd \n",
    "import matplotlib.pyplot as plt\n",
    "import seaborn as sns\n",
    "\n",
    "#фильтр предупреждений\n",
    "import warnings\n",
    "warnings.filterwarnings('ignore')"
   ]
  },
  {
   "cell_type": "code",
   "execution_count": 2,
   "id": "71f7e6b3",
   "metadata": {},
   "outputs": [
    {
     "name": "stdout",
     "output_type": "stream",
     "text": [
      "Формат данных : (10127, 23) \n"
     ]
    },
    {
     "data": {
      "text/html": [
       "<div>\n",
       "<style scoped>\n",
       "    .dataframe tbody tr th:only-of-type {\n",
       "        vertical-align: middle;\n",
       "    }\n",
       "\n",
       "    .dataframe tbody tr th {\n",
       "        vertical-align: top;\n",
       "    }\n",
       "\n",
       "    .dataframe thead th {\n",
       "        text-align: right;\n",
       "    }\n",
       "</style>\n",
       "<table border=\"1\" class=\"dataframe\">\n",
       "  <thead>\n",
       "    <tr style=\"text-align: right;\">\n",
       "      <th></th>\n",
       "      <th>CLIENTNUM</th>\n",
       "      <th>Attrition_Flag</th>\n",
       "      <th>Customer_Age</th>\n",
       "      <th>Gender</th>\n",
       "      <th>Dependent_count</th>\n",
       "      <th>Education_Level</th>\n",
       "      <th>Marital_Status</th>\n",
       "      <th>Income_Category</th>\n",
       "      <th>Card_Category</th>\n",
       "      <th>Months_on_book</th>\n",
       "      <th>...</th>\n",
       "      <th>Credit_Limit</th>\n",
       "      <th>Total_Revolving_Bal</th>\n",
       "      <th>Avg_Open_To_Buy</th>\n",
       "      <th>Total_Amt_Chng_Q4_Q1</th>\n",
       "      <th>Total_Trans_Amt</th>\n",
       "      <th>Total_Trans_Ct</th>\n",
       "      <th>Total_Ct_Chng_Q4_Q1</th>\n",
       "      <th>Avg_Utilization_Ratio</th>\n",
       "      <th>Naive_Bayes_Classifier_Attrition_Flag_Card_Category_Contacts_Count_12_mon_Dependent_count_Education_Level_Months_Inactive_12_mon_1</th>\n",
       "      <th>Naive_Bayes_Classifier_Attrition_Flag_Card_Category_Contacts_Count_12_mon_Dependent_count_Education_Level_Months_Inactive_12_mon_2</th>\n",
       "    </tr>\n",
       "  </thead>\n",
       "  <tbody>\n",
       "    <tr>\n",
       "      <th>0</th>\n",
       "      <td>768805383</td>\n",
       "      <td>Existing Customer</td>\n",
       "      <td>45</td>\n",
       "      <td>M</td>\n",
       "      <td>3</td>\n",
       "      <td>High School</td>\n",
       "      <td>Married</td>\n",
       "      <td>$60K - $80K</td>\n",
       "      <td>Blue</td>\n",
       "      <td>39</td>\n",
       "      <td>...</td>\n",
       "      <td>12691.0</td>\n",
       "      <td>777</td>\n",
       "      <td>11914.0</td>\n",
       "      <td>1.335</td>\n",
       "      <td>1144</td>\n",
       "      <td>42</td>\n",
       "      <td>1.625</td>\n",
       "      <td>0.061</td>\n",
       "      <td>0.000093</td>\n",
       "      <td>0.99991</td>\n",
       "    </tr>\n",
       "    <tr>\n",
       "      <th>1</th>\n",
       "      <td>818770008</td>\n",
       "      <td>Existing Customer</td>\n",
       "      <td>49</td>\n",
       "      <td>F</td>\n",
       "      <td>5</td>\n",
       "      <td>Graduate</td>\n",
       "      <td>Single</td>\n",
       "      <td>Less than $40K</td>\n",
       "      <td>Blue</td>\n",
       "      <td>44</td>\n",
       "      <td>...</td>\n",
       "      <td>8256.0</td>\n",
       "      <td>864</td>\n",
       "      <td>7392.0</td>\n",
       "      <td>1.541</td>\n",
       "      <td>1291</td>\n",
       "      <td>33</td>\n",
       "      <td>3.714</td>\n",
       "      <td>0.105</td>\n",
       "      <td>0.000057</td>\n",
       "      <td>0.99994</td>\n",
       "    </tr>\n",
       "    <tr>\n",
       "      <th>2</th>\n",
       "      <td>713982108</td>\n",
       "      <td>Existing Customer</td>\n",
       "      <td>51</td>\n",
       "      <td>M</td>\n",
       "      <td>3</td>\n",
       "      <td>Graduate</td>\n",
       "      <td>Married</td>\n",
       "      <td>$80K - $120K</td>\n",
       "      <td>Blue</td>\n",
       "      <td>36</td>\n",
       "      <td>...</td>\n",
       "      <td>3418.0</td>\n",
       "      <td>0</td>\n",
       "      <td>3418.0</td>\n",
       "      <td>2.594</td>\n",
       "      <td>1887</td>\n",
       "      <td>20</td>\n",
       "      <td>2.333</td>\n",
       "      <td>0.000</td>\n",
       "      <td>0.000021</td>\n",
       "      <td>0.99998</td>\n",
       "    </tr>\n",
       "    <tr>\n",
       "      <th>3</th>\n",
       "      <td>769911858</td>\n",
       "      <td>Existing Customer</td>\n",
       "      <td>40</td>\n",
       "      <td>F</td>\n",
       "      <td>4</td>\n",
       "      <td>High School</td>\n",
       "      <td>Unknown</td>\n",
       "      <td>Less than $40K</td>\n",
       "      <td>Blue</td>\n",
       "      <td>34</td>\n",
       "      <td>...</td>\n",
       "      <td>3313.0</td>\n",
       "      <td>2517</td>\n",
       "      <td>796.0</td>\n",
       "      <td>1.405</td>\n",
       "      <td>1171</td>\n",
       "      <td>20</td>\n",
       "      <td>2.333</td>\n",
       "      <td>0.760</td>\n",
       "      <td>0.000134</td>\n",
       "      <td>0.99987</td>\n",
       "    </tr>\n",
       "    <tr>\n",
       "      <th>4</th>\n",
       "      <td>709106358</td>\n",
       "      <td>Existing Customer</td>\n",
       "      <td>40</td>\n",
       "      <td>M</td>\n",
       "      <td>3</td>\n",
       "      <td>Uneducated</td>\n",
       "      <td>Married</td>\n",
       "      <td>$60K - $80K</td>\n",
       "      <td>Blue</td>\n",
       "      <td>21</td>\n",
       "      <td>...</td>\n",
       "      <td>4716.0</td>\n",
       "      <td>0</td>\n",
       "      <td>4716.0</td>\n",
       "      <td>2.175</td>\n",
       "      <td>816</td>\n",
       "      <td>28</td>\n",
       "      <td>2.500</td>\n",
       "      <td>0.000</td>\n",
       "      <td>0.000022</td>\n",
       "      <td>0.99998</td>\n",
       "    </tr>\n",
       "  </tbody>\n",
       "</table>\n",
       "<p>5 rows × 23 columns</p>\n",
       "</div>"
      ],
      "text/plain": [
       "   CLIENTNUM     Attrition_Flag  Customer_Age Gender  Dependent_count  \\\n",
       "0  768805383  Existing Customer            45      M                3   \n",
       "1  818770008  Existing Customer            49      F                5   \n",
       "2  713982108  Existing Customer            51      M                3   \n",
       "3  769911858  Existing Customer            40      F                4   \n",
       "4  709106358  Existing Customer            40      M                3   \n",
       "\n",
       "  Education_Level Marital_Status Income_Category Card_Category  \\\n",
       "0     High School        Married     $60K - $80K          Blue   \n",
       "1        Graduate         Single  Less than $40K          Blue   \n",
       "2        Graduate        Married    $80K - $120K          Blue   \n",
       "3     High School        Unknown  Less than $40K          Blue   \n",
       "4      Uneducated        Married     $60K - $80K          Blue   \n",
       "\n",
       "   Months_on_book  ...  Credit_Limit  Total_Revolving_Bal  Avg_Open_To_Buy  \\\n",
       "0              39  ...       12691.0                  777          11914.0   \n",
       "1              44  ...        8256.0                  864           7392.0   \n",
       "2              36  ...        3418.0                    0           3418.0   \n",
       "3              34  ...        3313.0                 2517            796.0   \n",
       "4              21  ...        4716.0                    0           4716.0   \n",
       "\n",
       "   Total_Amt_Chng_Q4_Q1  Total_Trans_Amt  Total_Trans_Ct  Total_Ct_Chng_Q4_Q1  \\\n",
       "0                 1.335             1144              42                1.625   \n",
       "1                 1.541             1291              33                3.714   \n",
       "2                 2.594             1887              20                2.333   \n",
       "3                 1.405             1171              20                2.333   \n",
       "4                 2.175              816              28                2.500   \n",
       "\n",
       "   Avg_Utilization_Ratio  \\\n",
       "0                  0.061   \n",
       "1                  0.105   \n",
       "2                  0.000   \n",
       "3                  0.760   \n",
       "4                  0.000   \n",
       "\n",
       "   Naive_Bayes_Classifier_Attrition_Flag_Card_Category_Contacts_Count_12_mon_Dependent_count_Education_Level_Months_Inactive_12_mon_1  \\\n",
       "0                                           0.000093                                                                                    \n",
       "1                                           0.000057                                                                                    \n",
       "2                                           0.000021                                                                                    \n",
       "3                                           0.000134                                                                                    \n",
       "4                                           0.000022                                                                                    \n",
       "\n",
       "   Naive_Bayes_Classifier_Attrition_Flag_Card_Category_Contacts_Count_12_mon_Dependent_count_Education_Level_Months_Inactive_12_mon_2  \n",
       "0                                            0.99991                                                                                   \n",
       "1                                            0.99994                                                                                   \n",
       "2                                            0.99998                                                                                   \n",
       "3                                            0.99987                                                                                   \n",
       "4                                            0.99998                                                                                   \n",
       "\n",
       "[5 rows x 23 columns]"
      ]
     },
     "execution_count": 2,
     "metadata": {},
     "output_type": "execute_result"
    }
   ],
   "source": [
    "data = pd.read_csv (\"BankChurners.csv\")\n",
    "print(\"Формат данных : {} \".format(data.shape))\n",
    "data.head()"
   ]
  },
  {
   "cell_type": "code",
   "execution_count": 3,
   "id": "b92247c8",
   "metadata": {},
   "outputs": [
    {
     "name": "stdout",
     "output_type": "stream",
     "text": [
      "<class 'pandas.core.frame.DataFrame'>\n",
      "RangeIndex: 10127 entries, 0 to 10126\n",
      "Data columns (total 23 columns):\n",
      " #   Column                    Non-Null Count  Dtype  \n",
      "---  ------                    --------------  -----  \n",
      " 0   CLIENTNUM                 10127 non-null  int64  \n",
      " 1   Attrition_Flag            10127 non-null  object \n",
      " 2   Customer_Age              10127 non-null  int64  \n",
      " 3   Gender                    10127 non-null  object \n",
      " 4   Dependent_count           10127 non-null  int64  \n",
      " 5   Education_Level           10127 non-null  object \n",
      " 6   Marital_Status            10127 non-null  object \n",
      " 7   Income_Category           10127 non-null  object \n",
      " 8   Card_Category             10127 non-null  object \n",
      " 9   Months_on_book            10127 non-null  int64  \n",
      " 10  Total_Relationship_Count  10127 non-null  int64  \n",
      " 11  Months_Inactive_12_mon    10127 non-null  int64  \n",
      " 12  Contacts_Count_12_mon     10127 non-null  int64  \n",
      " 13  Credit_Limit              10127 non-null  float64\n",
      " 14  Total_Revolving_Bal       10127 non-null  int64  \n",
      " 15  Avg_Open_To_Buy           10127 non-null  float64\n",
      " 16  Total_Amt_Chng_Q4_Q1      10127 non-null  float64\n",
      " 17  Total_Trans_Amt           10127 non-null  int64  \n",
      " 18  Total_Trans_Ct            10127 non-null  int64  \n",
      " 19  Total_Ct_Chng_Q4_Q1       10127 non-null  float64\n",
      " 20  Avg_Utilization_Ratio     10127 non-null  float64\n",
      " 21  pred1                     10127 non-null  float64\n",
      " 22  pred2                     10127 non-null  float64\n",
      "dtypes: float64(7), int64(10), object(6)\n",
      "memory usage: 1.8+ MB\n"
     ]
    }
   ],
   "source": [
    "str1 = \"Naive_Bayes_Classifier_Attrition_Flag_Card_Category_Contacts_Count_12_mon_Dependent_count_Education_Level_Months_Inactive_12_mon_1\"\n",
    "str2 = \"Naive_Bayes_Classifier_Attrition_Flag_Card_Category_Contacts_Count_12_mon_Dependent_count_Education_Level_Months_Inactive_12_mon_2\"\n",
    "data.rename(columns={str1 : \"pred1\", str2 : \"pred2\"}, inplace=True)\n",
    "data.info()"
   ]
  },
  {
   "cell_type": "code",
   "execution_count": 4,
   "id": "7ab82996",
   "metadata": {},
   "outputs": [
    {
     "name": "stdout",
     "output_type": "stream",
     "text": [
      "Attrition_Flag     2\n",
      "Gender             2\n",
      "Education_Level    7\n",
      "Marital_Status     4\n",
      "Income_Category    6\n",
      "Card_Category      4\n",
      "dtype: int64\n"
     ]
    }
   ],
   "source": [
    "cat_columns = data.select_dtypes(include = ['object'])\n",
    "unique_values = cat_columns.nunique(dropna=False)\n",
    "print (unique_values)"
   ]
  },
  {
   "cell_type": "code",
   "execution_count": 5,
   "id": "defb404f",
   "metadata": {},
   "outputs": [
    {
     "name": "stdout",
     "output_type": "stream",
     "text": [
      "['Attrited Customer' 'Existing Customer']\n"
     ]
    }
   ],
   "source": [
    "col = np.unique(data['Attrition_Flag'].values)\n",
    "print (col)\n",
    "#Приводим категориальные факторы к числовым выражениям, где attrited = 0 и existing = 1\n",
    "data.loc[data['Attrition_Flag'] == 'Attrited Customer', 'Attrition_Flag'] = 0\n",
    "data.loc[data['Attrition_Flag'] == 'Existing Customer', 'Attrition_Flag'] = 1\n",
    "data['Attrition_Flag'] = data['Attrition_Flag'].astype(int)"
   ]
  },
  {
   "cell_type": "code",
   "execution_count": 6,
   "id": "64dcda22",
   "metadata": {},
   "outputs": [
    {
     "name": "stdout",
     "output_type": "stream",
     "text": [
      "['F' 'M']\n"
     ]
    }
   ],
   "source": [
    "col = np.unique(data['Gender'].values)\n",
    "print (col)\n",
    "# Приводим категориальные факторы к числовым выражениям, где \"M\" = 0 и \"F\" = 1\n",
    "data.loc[data['Gender'] == 'M', 'Gender'] = 0\n",
    "data.loc[data['Gender'] == 'F', 'Gender'] = 1\n",
    "data['Gender'] = data['Gender'].astype(int)"
   ]
  },
  {
   "cell_type": "code",
   "execution_count": 7,
   "id": "5f5531ed",
   "metadata": {},
   "outputs": [
    {
     "name": "stdout",
     "output_type": "stream",
     "text": [
      "['College' 'Doctorate' 'Graduate' 'High School' 'Post-Graduate'\n",
      " 'Uneducated' 'Unknown']\n"
     ]
    }
   ],
   "source": [
    "col = np.unique(data['Education_Level'].values)\n",
    "print (col)\n",
    "# Категориальные данные в числовые\n",
    "data.loc[data['Education_Level'] == 'College', 'Education_Level'] = 14\n",
    "data.loc[data['Education_Level'] == 'Doctorate', 'Education_Level'] = 21\n",
    "data.loc[data['Education_Level'] == 'Graduate', 'Education_Level'] = 16\n",
    "data.loc[data['Education_Level'] == 'High School', 'Education_Level'] = 12\n",
    "data.loc[data['Education_Level'] == 'Post-Graduate', 'Education_Level'] = 18\n",
    "data.loc[data['Education_Level'] == 'Uneducated', 'Education_Level'] = 8\n",
    "data.loc[data['Education_Level'] == 'Unknown', 'Education_Level'] = 0\n",
    "data['Education_Level'] = data['Education_Level'].astype(int)"
   ]
  },
  {
   "cell_type": "code",
   "execution_count": 8,
   "id": "9e3cb0a1",
   "metadata": {},
   "outputs": [
    {
     "name": "stdout",
     "output_type": "stream",
     "text": [
      "['$120K +' '$40K - $60K' '$60K - $80K' '$80K - $120K' 'Less than $40K'\n",
      " 'Unknown']\n"
     ]
    }
   ],
   "source": [
    "col = np.unique(data['Income_Category'].values)\n",
    "print (col)\n",
    "# Категориальные данные в числовые\n",
    "data.loc[data['Income_Category'] == 'Less than $40K', 'Income_Category'] = 30\n",
    "data.loc[data['Income_Category'] == '$40K - $60K', 'Income_Category'] = 50\n",
    "data.loc[data['Income_Category'] == '$60K - $80K', 'Income_Category'] = 70\n",
    "data.loc[data['Income_Category'] == '$80K - $120K', 'Income_Category'] = 100\n",
    "data.loc[data['Income_Category'] == '$120K +', 'Income_Category'] = 150\n",
    "data.loc[data['Income_Category'] == 'Unknown', 'Income_Category'] = 0\n",
    "data['Income_Category'] = data['Income_Category'].astype(int)"
   ]
  },
  {
   "cell_type": "code",
   "execution_count": 9,
   "id": "c0ebeb12",
   "metadata": {},
   "outputs": [
    {
     "name": "stdout",
     "output_type": "stream",
     "text": [
      "['Blue' 'Gold' 'Platinum' 'Silver']\n"
     ]
    }
   ],
   "source": [
    "col = np.unique(data['Card_Category'].values)\n",
    "print (col)\n",
    "# Категориальные данные в числовые\n",
    "data.loc[data['Card_Category'] == 'Blue', 'Card_Category'] = 1\n",
    "data.loc[data['Card_Category'] == 'Silver', 'Card_Category'] = 2\n",
    "data.loc[data['Card_Category'] == 'Gold', 'Card_Category'] = 3\n",
    "data.loc[data['Card_Category'] == 'Platinum', 'Card_Category'] = 4\n",
    "data['Card_Category'] = data['Card_Category'].astype(int)"
   ]
  },
  {
   "cell_type": "code",
   "execution_count": 10,
   "id": "cd0f04e3",
   "metadata": {},
   "outputs": [
    {
     "name": "stdout",
     "output_type": "stream",
     "text": [
      "<class 'pandas.core.frame.DataFrame'>\n",
      "RangeIndex: 10127 entries, 0 to 10126\n",
      "Data columns (total 25 columns):\n",
      " #   Column                    Non-Null Count  Dtype  \n",
      "---  ------                    --------------  -----  \n",
      " 0   CLIENTNUM                 10127 non-null  int64  \n",
      " 1   Attrition_Flag            10127 non-null  int32  \n",
      " 2   Customer_Age              10127 non-null  int64  \n",
      " 3   Gender                    10127 non-null  int32  \n",
      " 4   Dependent_count           10127 non-null  int64  \n",
      " 5   Education_Level           10127 non-null  int32  \n",
      " 6   Income_Category           10127 non-null  int32  \n",
      " 7   Card_Category             10127 non-null  int32  \n",
      " 8   Months_on_book            10127 non-null  int64  \n",
      " 9   Total_Relationship_Count  10127 non-null  int64  \n",
      " 10  Months_Inactive_12_mon    10127 non-null  int64  \n",
      " 11  Contacts_Count_12_mon     10127 non-null  int64  \n",
      " 12  Credit_Limit              10127 non-null  float64\n",
      " 13  Total_Revolving_Bal       10127 non-null  int64  \n",
      " 14  Avg_Open_To_Buy           10127 non-null  float64\n",
      " 15  Total_Amt_Chng_Q4_Q1      10127 non-null  float64\n",
      " 16  Total_Trans_Amt           10127 non-null  int64  \n",
      " 17  Total_Trans_Ct            10127 non-null  int64  \n",
      " 18  Total_Ct_Chng_Q4_Q1       10127 non-null  float64\n",
      " 19  Avg_Utilization_Ratio     10127 non-null  float64\n",
      " 20  pred1                     10127 non-null  float64\n",
      " 21  pred2                     10127 non-null  float64\n",
      " 22  Marital_Status_Married    10127 non-null  uint8  \n",
      " 23  Marital_Status_Single     10127 non-null  uint8  \n",
      " 24  Marital_Status_Unknown    10127 non-null  uint8  \n",
      "dtypes: float64(7), int32(5), int64(10), uint8(3)\n",
      "memory usage: 1.5 MB\n",
      "CLIENTNUM                   0\n",
      "Attrition_Flag              0\n",
      "Customer_Age                0\n",
      "Gender                      0\n",
      "Dependent_count             0\n",
      "Education_Level             0\n",
      "Income_Category             0\n",
      "Card_Category               0\n",
      "Months_on_book              0\n",
      "Total_Relationship_Count    0\n",
      "Months_Inactive_12_mon      0\n",
      "Contacts_Count_12_mon       0\n",
      "Credit_Limit                0\n",
      "Total_Revolving_Bal         0\n",
      "Avg_Open_To_Buy             0\n",
      "Total_Amt_Chng_Q4_Q1        0\n",
      "Total_Trans_Amt             0\n",
      "Total_Trans_Ct              0\n",
      "Total_Ct_Chng_Q4_Q1         0\n",
      "Avg_Utilization_Ratio       0\n",
      "pred1                       0\n",
      "pred2                       0\n",
      "Marital_Status_Married      0\n",
      "Marital_Status_Single       0\n",
      "Marital_Status_Unknown      0\n",
      "dtype: int64\n"
     ]
    }
   ],
   "source": [
    "data = pd.get_dummies(data, drop_first = True)\n",
    "\n",
    "data.info()\n",
    "print (data.isnull().sum())"
   ]
  },
  {
   "cell_type": "code",
   "execution_count": 11,
   "id": "32bb3db0",
   "metadata": {},
   "outputs": [],
   "source": [
    "col = data['Income_Category']\n",
    "mode = col.mode()[0]\n",
    "data.loc[data['Income_Category'] == 0, 'Income_Category'] = mode\n",
    "\n",
    "col = data['Education_Level']\n",
    "mode = col.mode()[0]\n",
    "data.loc[data['Education_Level'] == 0, 'Education_Level'] = mode"
   ]
  },
  {
   "cell_type": "code",
   "execution_count": 12,
   "id": "ce3234e0",
   "metadata": {},
   "outputs": [
    {
     "data": {
      "image/png": "[encoded data removed]",
      "text/plain": [
       "<Figure size 864x648 with 2 Axes>"
      ]
     },
     "metadata": {
      "needs_background": "light"
     },
     "output_type": "display_data"
    }
   ],
   "source": [
    "corrmat = data.corr()\n",
    "plt.subplots(figsize=(12,9))\n",
    "sns.heatmap(corrmat, vmax=0.9, square=True)\n",
    "plt.show()\n",
    "#тепловая корр. диаграмма"
   ]
  },
  {
   "cell_type": "code",
   "execution_count": 13,
   "id": "ce4735a5",
   "metadata": {},
   "outputs": [],
   "source": [
    "used_data = data.drop (['CLIENTNUM', 'pred1', 'pred2', 'Attrition_Flag'], axis=1)\n",
    "X = used_data.values \n",
    "y = data['Attrition_Flag'].values\n",
    "y2 = data['pred1'].values\n",
    "y3 = data['pred2'].values"
   ]
  },
  {
   "cell_type": "code",
   "execution_count": 14,
   "id": "5bd24256",
   "metadata": {},
   "outputs": [
    {
     "data": {
      "text/plain": [
       "('% of 1s in label:', 0.8393403772094401)"
      ]
     },
     "execution_count": 14,
     "metadata": {},
     "output_type": "execute_result"
    }
   ],
   "source": [
    "\"% of 1s in label:\", y.mean()"
   ]
  },
  {
   "cell_type": "code",
   "execution_count": 15,
   "id": "bb785561",
   "metadata": {},
   "outputs": [],
   "source": [
    "import imblearn"
   ]
  },
  {
   "cell_type": "code",
   "execution_count": 23,
   "id": "379818f2",
   "metadata": {},
   "outputs": [
    {
     "name": "stdout",
     "output_type": "stream",
     "text": [
      "После SMOTE: % of 1s in label: 0.5\n"
     ]
    }
   ],
   "source": [
    "from imblearn.over_sampling import SMOTE\n",
    "sm = SMOTE(random_state=42)\n",
    "X_res, y_res = sm.fit_resample (X,y)\n",
    "print (\"После SMOTE: % of 1s in label:\", y_res.mean())"
   ]
  },
  {
   "cell_type": "code",
   "execution_count": 24,
   "id": "31b8185e",
   "metadata": {},
   "outputs": [],
   "source": [
    "for feature in range (X.shape[1]):\n",
    "    min = X_res[:,feature].min()\n",
    "    max = X_res[:,feature].max()\n",
    "    X_res[:,feature] = (X_res[:,feature]-min) / (max-min)"
   ]
  },
  {
   "cell_type": "code",
   "execution_count": 25,
   "id": "d2fffc7d",
   "metadata": {},
   "outputs": [
    {
     "name": "stdout",
     "output_type": "stream",
     "text": [
      "Размер тренировочного датасета : (13600, 21) \n",
      "Размер тестового датасета : (3400, 21) \n"
     ]
    }
   ],
   "source": [
    "from sklearn.model_selection import train_test_split\n",
    "X_train, X_test, y_train, y_test = train_test_split (X_res, y_res, test_size=0.2, random_state=42)\n",
    "print(\"Размер тренировочного датасета : {} \".format(X_train.shape))\n",
    "print(\"Размер тестового датасета : {} \".format(X_test.shape))"
   ]
  },
  {
   "cell_type": "code",
   "execution_count": 26,
   "id": "d30d4453",
   "metadata": {},
   "outputs": [
    {
     "name": "stdout",
     "output_type": "stream",
     "text": [
      "Глубина дерева: 21\n",
      "Ветви деревьев: 459\n",
      "Точность дерева решений. Тренировочные : 100.00%, Тестовые: 95.09%. \n"
     ]
    }
   ],
   "source": [
    "from sklearn.tree import DecisionTreeClassifier\n",
    "\n",
    "dct = DecisionTreeClassifier(max_depth=None)\n",
    "dct.fit(X_train,y_train)\n",
    "dct_training_score = 100*dct.score(X_train, y_train)\n",
    "print ('Глубина дерева:', dct.get_depth())\n",
    "print ('Ветви деревьев:', dct.get_n_leaves())\n",
    "dct_test_score = 100*dct.score(X_test, y_test)\n",
    "print(\"Точность дерева решений. Тренировочные : {:.2f}%, Тестовые: {:.2f}%. \".format(dct_training_score, dct_test_score))"
   ]
  },
  {
   "cell_type": "code",
   "execution_count": 27,
   "id": "894bb4dc",
   "metadata": {},
   "outputs": [
    {
     "name": "stdout",
     "output_type": "stream",
     "text": [
      "[ 78.13  78.13  86.79  91.18  93.28  94.62  95.92  96.88  97.68  98.35\n",
      "  98.76  99.2   99.51  99.68  99.82  99.89  99.95  99.98  99.99  99.99\n",
      " 100.  ]\n",
      "[78.24 78.24 85.24 90.79 92.47 93.35 94.35 95.12 95.44 95.56 95.59 95.56\n",
      " 95.32 95.53 95.74 95.44 95.35 95.44 95.35 95.12 95.15]\n"
     ]
    },
    {
     "data": {
      "image/png": "[encoded data removed]",
      "text/plain": [
       "<Figure size 432x288 with 1 Axes>"
      ]
     },
     "metadata": {
      "needs_background": "light"
     },
     "output_type": "display_data"
    }
   ],
   "source": [
    "max_d = dct.get_depth()\n",
    "dct_training_score, dct_test_score = np.zeros(max_d), np.zeros(max_d)\n",
    "for i in range (max_d):\n",
    "  dct = DecisionTreeClassifier(max_depth=i+1)\n",
    "  dct.fit(X_train,y_train)\n",
    "  dct_training_score[i] = 100*dct.score(X_train, y_train)\n",
    "  dct_test_score[i] = 100*dct.score(X_test, y_test)\n",
    "\n",
    "print (np.around (dct_training_score, decimals=2))  \n",
    "print (np.around (dct_test_score, decimals=2))\n",
    "plt.plot (dct_training_score)\n",
    "plt.plot(dct_test_score)\n",
    "plt.show()"
   ]
  },
  {
   "cell_type": "code",
   "execution_count": 28,
   "id": "cd6fef27",
   "metadata": {},
   "outputs": [
    {
     "name": "stdout",
     "output_type": "stream",
     "text": [
      "Самые важные факторы:\n",
      "1 Total_Trans_Ct 44.72 %\n",
      "2 Total_Trans_Amt 18.97 %\n",
      "3 Total_Revolving_Bal 8.38 %\n",
      "4 Total_Relationship_Count 6.95 %\n",
      "5 Total_Ct_Chng_Q4_Q1 5.16 %\n",
      "6 Total_Amt_Chng_Q4_Q1 2.42 %\n",
      "7 Months_Inactive_12_mon 2.24 %\n",
      "8 Customer_Age 2.01 %\n",
      "9 Marital_Status_Single 1.94 %\n",
      "10 Credit_Limit 1.51 %\n",
      "11 Contacts_Count_12_mon 1.12 %\n",
      "12 Avg_Open_To_Buy 0.9 %\n",
      "13 Avg_Utilization_Ratio 0.9 %\n",
      "14 Months_on_book 0.67 %\n",
      "15 Dependent_count 0.48 %\n",
      "16 Income_Category 0.47 %\n",
      "17 Gender 0.41 %\n",
      "18 Education_Level 0.35 %\n",
      "19 Marital_Status_Unknown 0.3 %\n",
      "20 Card_Category 0.06 %\n",
      "21 Marital_Status_Married 0.03 %\n"
     ]
    }
   ],
   "source": [
    "features = used_data.columns\n",
    "importances = dct.feature_importances_\n",
    "leading_indices = (-importances).argsort()[:23]\n",
    "print (\"Самые важные факторы:\")\n",
    "for i in range (21):\n",
    "    print (i+1, features[leading_indices[i]], round(100*importances[leading_indices[i]],2), '%')"
   ]
  }
 ],
 "metadata": {
  "kernelspec": {
   "display_name": "Python 3",
   "language": "python",
   "name": "python3"
  },
  "language_info": {
   "codemirror_mode": {
    "name": "ipython",
    "version": 3
   },
   "file_extension": ".py",
   "mimetype": "text/x-python",
   "name": "python",
   "nbconvert_exporter": "python",
   "pygments_lexer": "ipython3",
   "version": "3.8.8"
  }
 },
 "nbformat": 4,
 "nbformat_minor": 5
}
